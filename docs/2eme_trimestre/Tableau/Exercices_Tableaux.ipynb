{
 "cells": [
  {
   "cell_type": "markdown",
   "metadata": {},
   "source": [
    "#### EXERCICE n°1 :\n",
    "\n",
    "1- Écrire une fonction ``additionne_element(tableau)`` qui retourne la somme des éléments d’un tableau.\n",
    "\n",
    "Tester pour ``tableau = [ 10 , 20 , 30 , 10 , 20 , 60 , 100 ]``\n",
    "\n",
    "2- Écrire une fonction ``moyenne_element(tableau)`` qui retourne la moyenne des éléments d’un tableau.\n",
    "\n",
    "Tester pour ``tableau = [ 10 , 20 , 30 , 10 , 20 , 60 , 100 ]``\n",
    "\n",
    "#### EXERCICE n°2 :\n",
    "\n",
    "Écrire une fonction ``supprimer_doublons(tableau)`` qui permet de supprimer les doublons d'un tableau.\n",
    "\n",
    "Tester pour ``tableau = [20,41,52,41,20,78,41,63,52,20]``\n",
    "\n",
    "#### EXERCICE n°3 :\n",
    "\n",
    "1- Écrire une fonction ``multiplie_par_2(tableau)`` qui multiplie par 2 chaque élément du tableau\n",
    "\n",
    "Tester pour ``tableau = [ 10 , 20 , 30 , 10 , 20 , 60 , 100 ]``\n",
    "\n",
    "2- Écrire une compréhension de tableau qui permet d’effectuer cette tâche.\n",
    "\n",
    "3- Compléter cette instruction pour que le tableau ne contienne que des valeurs supérieures à 50"
   ]
  },
  {
   "cell_type": "markdown",
   "metadata": {},
   "source": [
    "#### EXERCICE n°1 :\n",
    "\n",
    "1- Écrire une fonction ``additionne_element(tableau)`` qui retourne la somme des éléments d’un tableau.\n",
    "\n",
    "Tester pour ``tableau = [ 10 , 20 , 30 , 10 , 20 , 60 , 100 ]``"
   ]
  },
  {
   "cell_type": "code",
   "execution_count": 1,
   "metadata": {},
   "outputs": [],
   "source": [
    "def additionne_element(tableau):\n",
    "    somme = 0\n",
    "    for element in tableau:\n",
    "        somme += element\n",
    "    return somme    "
   ]
  },
  {
   "cell_type": "code",
   "execution_count": 4,
   "metadata": {},
   "outputs": [
    {
     "name": "stdout",
     "output_type": "stream",
     "text": [
      "250\n"
     ]
    }
   ],
   "source": [
    "tableau = [ 10 , 20 , 30 , 10 , 20 , 60 , 100 ]\n",
    "resultat = additionne_element(tableau)\n",
    "print(resultat)"
   ]
  },
  {
   "cell_type": "markdown",
   "metadata": {},
   "source": [
    "2- Écrire une fonction ``moyenne_element(tableau)`` qui retourne la moyenne des éléments d’un tableau.\n",
    "\n",
    "Tester pour ``tableau = [ 10 , 20 , 30 , 10 , 20 , 60 , 100 ]``"
   ]
  },
  {
   "cell_type": "code",
   "execution_count": null,
   "metadata": {},
   "outputs": [],
   "source": [
    "def moyenne_element(tableau):\n",
    "    moyenne = 0\n",
    "    for moyenne in tableau: "
   ]
  }
 ],
 "metadata": {
  "kernelspec": {
   "display_name": "Python 3",
   "language": "python",
   "name": "python3"
  },
  "language_info": {
   "codemirror_mode": {
    "name": "ipython",
    "version": 3
   },
   "file_extension": ".py",
   "mimetype": "text/x-python",
   "name": "python",
   "nbconvert_exporter": "python",
   "pygments_lexer": "ipython3",
   "version": "3.10.8"
  }
 },
 "nbformat": 4,
 "nbformat_minor": 2
}
