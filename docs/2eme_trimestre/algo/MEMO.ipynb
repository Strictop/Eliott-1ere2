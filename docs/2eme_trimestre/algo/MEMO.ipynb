{
 "cells": [
  {
   "cell_type": "markdown",
   "metadata": {},
   "source": [
    "### Memo sur les algorithmes\n"
   ]
  },
  {
   "cell_type": "markdown",
   "metadata": {},
   "source": [
    "#### 1. Définition d'un algo et son importance\n"
   ]
  },
  {
   "cell_type": "markdown",
   "metadata": {},
   "source": [
    "Un **algorithme** est une suite finie d'instructions précises conçues pour accomplir une tâche spécifique ou résoudre un problème. En programmation, les algorithmes sont essentiels car ils déterminent la méthode de résolution de problèmes par les ordinateurs."
   ]
  },
  {
   "cell_type": "markdown",
   "metadata": {},
   "source": [
    "#### 2. Caractéristiques d'un algorithme\n",
    "\n"
   ]
  },
  {
   "cell_type": "markdown",
   "metadata": {},
   "source": [
    "- **Finitude** : Un algorithme doit toujours se terminer après un nombre défini d'étapes.\n",
    "- **Précision** : Chaque étape de l'algorithme doit être clairement et sans ambiguïté.\n",
    "- **Entrées et Sorties** : Il doit recevoir des données en entrée et produire des résultats en sortie."
   ]
  },
  {
   "cell_type": "markdown",
   "metadata": {},
   "source": [
    "#### 3. Types d'algorithmes\n"
   ]
  },
  {
   "cell_type": "markdown",
   "metadata": {},
   "source": [
    "##### a. Algorithmes de Tri\n",
    "Ces algorithmes réorganisent les éléments d'une liste selon un ordre précis (croissant ou décroissant).\n",
    "- **Tri par sélection** : Sélectionne le plus petit élément et le place au début, puis répète ce processus pour les éléments restants.\n",
    "- **Tri à bulles** : Compare et échange les éléments adjacents qui sont dans le mauvais ordre, répété jusqu'à ce que la liste soit triée.\n",
    "- **Tri rapide** : Utilise un pivot pour diviser la liste en deux sous-listes, trie récursivement ces sous-listes."
   ]
  },
  {
   "cell_type": "markdown",
   "metadata": {},
   "source": [
    "##### b. Algorithmes de Recherche\n",
    "Ces algorithmes permettent de trouver un élément spécifique dans une collection de données.\n",
    "- **Recherche séquentielle** : Parcourt chaque élément de la liste jusqu'à trouver celui recherché.\n",
    "- **Recherche binaire** : Divise une liste triée en deux et compare l'élément du milieu à l'élément recherché, réduisant ainsi la zone de recherche de moitié à chaque étape.\n"
   ]
  },
  {
   "cell_type": "markdown",
   "metadata": {},
   "source": []
  }
 ],
 "metadata": {
  "kernelspec": {
   "display_name": "Python 3",
   "language": "python",
   "name": "python3"
  },
  "language_info": {
   "name": "python",
   "version": "3.10.8"
  }
 },
 "nbformat": 4,
 "nbformat_minor": 2
}
