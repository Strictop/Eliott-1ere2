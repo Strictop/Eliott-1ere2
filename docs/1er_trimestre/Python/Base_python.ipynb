{
 "cells": [
  {
   "cell_type": "markdown",
   "metadata": {},
   "source": [
    "# Présentation des chaines"
   ]
  },
  {
   "cell_type": "markdown",
   "metadata": {},
   "source": [
    "Dans cette section, nous allons explorer les chaînes de caractères en Python."
   ]
  },
  {
   "cell_type": "markdown",
   "metadata": {},
   "source": [
    "### *Presentation d'une chaine de caractere*"
   ]
  },
  {
   "cell_type": "markdown",
   "metadata": {},
   "source": [
    "\n",
    " Chaine de caractere Hello World"
   ]
  },
  {
   "cell_type": "code",
   "execution_count": 1,
   "metadata": {},
   "outputs": [
    {
     "data": {
      "text/plain": [
       "'hello world'"
      ]
     },
     "execution_count": 1,
     "metadata": {},
     "output_type": "execute_result"
    }
   ],
   "source": [
    "'hello world'"
   ]
  },
  {
   "cell_type": "markdown",
   "metadata": {},
   "source": [
    "### *Concatenation d'une chaine de carcatere*\n"
   ]
  },
  {
   "cell_type": "markdown",
   "metadata": {},
   "source": [
    "La cellule montre comment concaténer une chaine de caractere en utilisant '+'..."
   ]
  },
  {
   "cell_type": "code",
   "execution_count": 2,
   "metadata": {},
   "outputs": [
    {
     "data": {
      "text/plain": [
       "'Hello world'"
      ]
     },
     "execution_count": 2,
     "metadata": {},
     "output_type": "execute_result"
    }
   ],
   "source": [
    "'hello ' + 'world'\n",
    "'hello' + 'world' \n",
    "'Hello' + ' ' + 'world' "
   ]
  },
  {
   "cell_type": "markdown",
   "metadata": {},
   "source": [
    "# Utilisation de variables et de print()"
   ]
  },
  {
   "cell_type": "markdown",
   "metadata": {},
   "source": [
    "### *Définir une variable et pouvoir l'afficher*"
   ]
  },
  {
   "cell_type": "markdown",
   "metadata": {},
   "source": [
    "On definit une variable mot avec la valeur 'Hello'"
   ]
  },
  {
   "cell_type": "code",
   "execution_count": 3,
   "metadata": {},
   "outputs": [
    {
     "data": {
      "text/plain": [
       "'Hello'"
      ]
     },
     "execution_count": 3,
     "metadata": {},
     "output_type": "execute_result"
    }
   ],
   "source": [
    "'Hello'"
   ]
  },
  {
   "cell_type": "code",
   "execution_count": 4,
   "metadata": {},
   "outputs": [
    {
     "data": {
      "text/plain": [
       "'Hello'"
      ]
     },
     "execution_count": 4,
     "metadata": {},
     "output_type": "execute_result"
    }
   ],
   "source": [
    "mot = 'Hello'\n",
    "mot"
   ]
  },
  {
   "cell_type": "markdown",
   "metadata": {},
   "source": [
    "### *Définir une variable et pouvoir l'afficher avec la fonction print()*"
   ]
  },
  {
   "cell_type": "markdown",
   "metadata": {},
   "source": [
    "On definit une autre variable mot avec la valeur 'Goodbye'"
   ]
  },
  {
   "cell_type": "code",
   "execution_count": 5,
   "metadata": {},
   "outputs": [
    {
     "data": {
      "text/plain": [
       "'Goodbye'"
      ]
     },
     "execution_count": 5,
     "metadata": {},
     "output_type": "execute_result"
    }
   ],
   "source": [
    "'Goodbye'"
   ]
  },
  {
   "cell_type": "code",
   "execution_count": null,
   "metadata": {},
   "outputs": [
    {
     "name": "stdout",
     "output_type": "stream",
     "text": [
      "Goodbye\n"
     ]
    }
   ],
   "source": [
    "mot = 'Goodbye'\n",
    "print(mot)\n"
   ]
  },
  {
   "cell_type": "markdown",
   "metadata": {},
   "source": [
    "Nous affichons ici chaque lettre du mot World en retournant a la ligne"
   ]
  },
  {
   "cell_type": "code",
   "execution_count": null,
   "metadata": {},
   "outputs": [
    {
     "name": "stdout",
     "output_type": "stream",
     "text": [
      "W\n",
      "o\n",
      "r\n",
      "l\n",
      "d\n"
     ]
    }
   ],
   "source": [
    "nom = 'World'\n",
    "\n",
    "caractere = 'W'\n",
    "print(caractere)\n",
    "\n",
    "caractere = 'o'\n",
    "print(caractere)\n",
    "\n",
    "caractere = 'r'\n",
    "print(caractere)\n",
    "\n",
    "caractere = 'l'\n",
    "print(caractere)\n",
    "\n",
    "caractere = 'd'\n",
    "print(caractere)"
   ]
  },
  {
   "cell_type": "code",
   "execution_count": null,
   "metadata": {},
   "outputs": [
    {
     "name": "stdout",
     "output_type": "stream",
     "text": [
      "Hello\n",
      "Hello!\n"
     ]
    }
   ],
   "source": [
    "hello = 'Hello'\n",
    "print(hello)\n",
    "hello = hello + '!'\n",
    "print(hello)"
   ]
  },
  {
   "cell_type": "markdown",
   "metadata": {},
   "source": [
    "# Stockage de résultats avec des variables"
   ]
  },
  {
   "cell_type": "markdown",
   "metadata": {},
   "source": [
    "### *Nous utilisons la boucle for pour afficher des caracteres*"
   ]
  },
  {
   "cell_type": "markdown",
   "metadata": {},
   "source": [
    "On ajoute ici une boucle for pour que les caracteres de la chaine World s'affiche avec une lig,e de separation"
   ]
  },
  {
   "cell_type": "code",
   "execution_count": null,
   "metadata": {},
   "outputs": [
    {
     "name": "stdout",
     "output_type": "stream",
     "text": [
      "W\n",
      "---\n",
      "o\n",
      "---\n",
      "r\n",
      "---\n",
      "l\n",
      "---\n",
      "d\n",
      "---\n"
     ]
    }
   ],
   "source": [
    "nom = 'World'\n",
    "\n",
    "for caractere in nom:\n",
    "    print(caractere)\n",
    "    print('---')"
   ]
  },
  {
   "cell_type": "markdown",
   "metadata": {},
   "source": [
    "### *On utilise une boucle for pour construire une ligne*"
   ]
  },
  {
   "cell_type": "markdown",
   "metadata": {},
   "source": [
    "Nous utilisons ici une boucle for pour que les caractères 'World' se construise progressivement avec un tiret\n"
   ]
  },
  {
   "cell_type": "code",
   "execution_count": null,
   "metadata": {},
   "outputs": [],
   "source": [
    "nom = 'World'\n",
    "ligne = '-'\n",
    "for caractere in nom:\n",
    "    ligne = ligne + caractere\n",
    "    print(ligne)"
   ]
  },
  {
   "cell_type": "markdown",
   "metadata": {},
   "source": [
    "Au contraire de la cellule precedente nous n'utlisons pas de tirets"
   ]
  },
  {
   "cell_type": "code",
   "execution_count": null,
   "metadata": {},
   "outputs": [
    {
     "name": "stdout",
     "output_type": "stream",
     "text": [
      "W\n",
      "Wo\n",
      "Wor\n",
      "Worl\n",
      "World\n"
     ]
    }
   ],
   "source": [
    "nom = 'World'\n",
    "ligne = ''\n",
    "for caractere in nom:\n",
    "    ligne = ligne + caractere\n",
    "    print(ligne)"
   ]
  },
  {
   "cell_type": "markdown",
   "metadata": {},
   "source": [
    "Dans cette cellule la chaine de caractères World est inversé"
   ]
  },
  {
   "cell_type": "code",
   "execution_count": null,
   "metadata": {},
   "outputs": [
    {
     "name": "stdout",
     "output_type": "stream",
     "text": [
      "W\n",
      "oW\n",
      "roW\n",
      "lroW\n",
      "dlroW\n"
     ]
    }
   ],
   "source": [
    "ligne = ''\n",
    "for caractere in nom:\n",
    "    ligne = caractere + ligne\n",
    "    print(ligne)"
   ]
  },
  {
   "cell_type": "markdown",
   "metadata": {},
   "source": [
    "### *Boucle for pour ajouter des espaces*"
   ]
  },
  {
   "cell_type": "code",
   "execution_count": null,
   "metadata": {},
   "outputs": [
    {
     "name": "stdout",
     "output_type": "stream",
     "text": [
      "W \n",
      "W o \n",
      "W o r \n",
      "W o r l \n",
      "W o r l d \n"
     ]
    }
   ],
   "source": [
    "ligne = ''\n",
    "for caractere in nom:\n",
    "    ligne = ligne + caractere + ' '\n",
    "    print(ligne)"
   ]
  },
  {
   "cell_type": "markdown",
   "metadata": {},
   "source": [
    "### *Création d'un cadre autour du texte \"World\"*"
   ]
  },
  {
   "cell_type": "code",
   "execution_count": null,
   "metadata": {},
   "outputs": [
    {
     "name": "stdout",
     "output_type": "stream",
     "text": [
      "+-----+\n",
      "|World|\n",
      "+-----+\n"
     ]
    }
   ],
   "source": [
    "nom = 'World'\n",
    "ligne = ''\n",
    "for _ in nom:\n",
    "    ligne += '-' # j'ajoute un tiret '-' à la chaîne \"ligne\".\n",
    "ligne= '+' + ligne + '+' #Après la boucle, j'ajoute un '+' à chaque extrémité de la chaîne \"ligne\" creant ainsi un effet de bordure\n",
    "print(ligne)\n",
    "print('|' + nom + '|')  # J'affiche la chaine 'nom' avec un encadrement '|'\n",
    "print(ligne)"
   ]
  },
  {
   "cell_type": "code",
   "execution_count": null,
   "metadata": {},
   "outputs": [
    {
     "name": "stdout",
     "output_type": "stream",
     "text": [
      "+World+\n",
      "W     W\n",
      "o     o\n",
      "r     r\n",
      "l     l\n",
      "d     d\n",
      "+World+\n"
     ]
    }
   ],
   "source": [
    "nom = 'World' \n",
    "ligne = '+' + nom + '+' # On créer une ligne avec le mot encadré par des '+'\n",
    "espaces = ''           \n",
    "for _ in nom:          #  On créer une boucle for pour calculer les espaces nécessaires (un espace par lettre dans le mot)\n",
    "    espaces += ' '     \n",
    "    \n",
    "print(ligne)\n",
    "for caractere in nom:\n",
    "    print(caractere + espaces + caractere)\n",
    "print(ligne)"
   ]
  },
  {
   "cell_type": "markdown",
   "metadata": {},
   "source": [
    "### *Utilisation de variables booléenne*"
   ]
  },
  {
   "cell_type": "code",
   "execution_count": null,
   "metadata": {},
   "outputs": [
    {
     "name": "stdout",
     "output_type": "stream",
     "text": [
      "True\n",
      "False\n"
     ]
    }
   ],
   "source": [
    "condition = True\n",
    "print(condition)\n",
    "condition = False\n",
    "print(condition)"
   ]
  },
  {
   "cell_type": "code",
   "execution_count": null,
   "metadata": {},
   "outputs": [
    {
     "name": "stdout",
     "output_type": "stream",
     "text": [
      "Hello World!\n"
     ]
    }
   ],
   "source": [
    "phrase = 'Hello World'\n",
    "ravi = True\n",
    "if ravi:\n",
    "    phrase += '!'\n",
    "print(phrase)"
   ]
  },
  {
   "cell_type": "code",
   "execution_count": null,
   "metadata": {},
   "outputs": [
    {
     "name": "stdout",
     "output_type": "stream",
     "text": [
      "H!e!l!l!o! !W!o!r!l!d!\n"
     ]
    }
   ],
   "source": [
    "phrase = 'Hello World'\n",
    "ravi = True\n",
    "\n",
    "if ravi:\n",
    "    nouvelle_phrase = ''\n",
    "    for caractere in phrase:\n",
    "        nouvelle_phrase += caractere + '!'\n",
    "    phrase = nouvelle_phrase\n",
    "\n",
    "print(phrase)"
   ]
  },
  {
   "cell_type": "code",
   "execution_count": 1,
   "metadata": {},
   "outputs": [
    {
     "name": "stdout",
     "output_type": "stream",
     "text": [
      "HeLlO WoRlD\n"
     ]
    }
   ],
   "source": [
    "phrase = 'Hello World'\n",
    "ravi = True\n",
    "\n",
    "majuscule = True\n",
    "nouvelle_phrase = ''\n",
    "for caractere in phrase:\n",
    "    # Si c'est une majuscule ou minuscule\n",
    "    if majuscule:\n",
    "        # Mettre en majuscule le caractère\n",
    "        caractere = caractere.upper()\n",
    "        # Change le booleen ce qui permet d'alterner entre majuscule et minuscule\n",
    "        majuscule = False\n",
    "    # Sinon\n",
    "    else:\n",
    "        # Mettre en minuscule le caractere\n",
    "        caractere = caractere.lower()\n",
    "        #Change le booleen ce qui permet d'alterner entre majuscule et minuscule\n",
    "        majuscule = True\n",
    "    # Cela ajoute les caracteres modifié a la nouvelle phrase\n",
    "    nouvelle_phrase += caractere\n",
    "\n",
    "    \n",
    "print(nouvelle_phrase)"
   ]
  },
  {
   "cell_type": "code",
   "execution_count": null,
   "metadata": {},
   "outputs": [
    {
     "name": "stdout",
     "output_type": "stream",
     "text": [
      "True\n",
      "False\n",
      "True\n"
     ]
    }
   ],
   "source": [
    "print(1 + 2 == 3)\n",
    "print(4 + 5 == 6)\n",
    "print('ab' + 'c' == 'a' + 'bc')"
   ]
  }
 ],
 "metadata": {
  "kernelspec": {
   "display_name": "Python 3.8.13 64-bit ('shims')",
   "language": "python",
   "name": "python3"
  },
  "language_info": {
   "codemirror_mode": {
    "name": "ipython",
    "version": 3
   },
   "file_extension": ".py",
   "mimetype": "text/x-python",
   "name": "python",
   "nbconvert_exporter": "python",
   "pygments_lexer": "ipython3",
   "version": "3.10.8"
  },
  "orig_nbformat": 4,
  "vscode": {
   "interpreter": {
    "hash": "9ac03a0a6051494cc606d484d27d20fce22fb7b4d169f583271e11d5ba46a56e"
   }
  }
 },
 "nbformat": 4,
 "nbformat_minor": 2
}
