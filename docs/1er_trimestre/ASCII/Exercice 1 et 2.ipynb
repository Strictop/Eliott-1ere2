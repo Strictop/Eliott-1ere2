{
 "cells": [
  {
   "cell_type": "markdown",
   "metadata": {},
   "source": [
    "## Exercice 1"
   ]
  },
  {
   "cell_type": "markdown",
   "metadata": {},
   "source": [
    "### Question 1"
   ]
  },
  {
   "cell_type": "code",
   "execution_count": 1,
   "metadata": {},
   "outputs": [
    {
     "name": "stdout",
     "output_type": "stream",
     "text": [
      "Le code numérique de é est 233\n",
      "Le code numérique de è est 232\n",
      "Le code numérique de ê est 234\n",
      "Le code numérique de à est 224\n",
      "Le code numérique de â est 226\n",
      "Le code numérique de ï est 239\n",
      "Le code numérique de ç est 231\n",
      "Le code numérique de ù est 249\n"
     ]
    }
   ],
   "source": [
    "lettres_accentuees = ['é', 'è', 'ê', 'à', 'â', 'ï', 'ç', 'ù']\n",
    "for lettre in lettres_accentuees:\n",
    "    code_numerique = ord(lettre)\n",
    "    print(f\"Le code numérique de {lettre} est {code_numerique}\")"
   ]
  },
  {
   "cell_type": "markdown",
   "metadata": {},
   "source": [
    "### Question 3"
   ]
  },
  {
   "cell_type": "code",
   "execution_count": 3,
   "metadata": {},
   "outputs": [
    {
     "name": "stdout",
     "output_type": "stream",
     "text": [
      "Code 97 : a\n",
      "Code 98 : b\n",
      "Code 99 : c\n",
      "Code 100 : d\n",
      "Code 101 : e\n",
      "Code 102 : f\n",
      "Code 103 : g\n",
      "Code 104 : h\n",
      "Code 105 : i\n",
      "Code 106 : j\n",
      "Code 107 : k\n",
      "Code 108 : l\n",
      "Code 109 : m\n",
      "Code 110 : n\n",
      "Code 111 : o\n",
      "Code 112 : p\n",
      "Code 113 : q\n",
      "Code 114 : r\n",
      "Code 115 : s\n",
      "Code 116 : t\n",
      "Code 117 : u\n",
      "Code 118 : v\n",
      "Code 119 : w\n",
      "Code 120 : x\n",
      "Code 121 : y\n",
      "Code 122 : z\n"
     ]
    }
   ],
   "source": [
    "def flemme(code_debut, code_fin):\n",
    "    for chiffre in range(code_debut, code_fin + 1):\n",
    "        lettre = chr(chiffre)\n",
    "        print(f\"Code {chiffre} : {lettre}\")\n",
    "\n",
    "flemme(97, 122)  # Affiche les lettres de 'a' à 'z'"
   ]
  },
  {
   "cell_type": "markdown",
   "metadata": {},
   "source": [
    "### Question 4"
   ]
  },
  {
   "cell_type": "markdown",
   "metadata": {},
   "source": [
    "La sequence binaire \"01000010011100100110000101110110011011110010000000100001\" décodé en texte donne le mot \"Bravo !\""
   ]
  },
  {
   "cell_type": "markdown",
   "metadata": {},
   "source": [
    "### Question 5"
   ]
  },
  {
   "cell_type": "code",
   "execution_count": null,
   "metadata": {},
   "outputs": [],
   "source": []
  },
  {
   "cell_type": "markdown",
   "metadata": {},
   "source": [
    "## Exercice 2\n"
   ]
  },
  {
   "cell_type": "markdown",
   "metadata": {},
   "source": [
    "### Question 1"
   ]
  },
  {
   "cell_type": "markdown",
   "metadata": {},
   "source": [
    "La séquence qui représente le \"é\" est: 1110 1001. En UTF-8 on le code sur deux octets en respectant les précisions apportées dans le tableau ci-dessus. Les bits imposés sont 110 pour le 1er octet et 10 pour le deuxième, le code du « é » est écrit en commençant par la droite et l’octet de gauche est rempli par des zéros (en italique). Voilà ce que l’on obtient : 11000011 10101001."
   ]
  },
  {
   "cell_type": "markdown",
   "metadata": {},
   "source": [
    "### Question 2"
   ]
  },
  {
   "cell_type": "markdown",
   "metadata": {},
   "source": [
    "Si le fichier avait été interprété en latin 1"
   ]
  }
 ],
 "metadata": {
  "kernelspec": {
   "display_name": "Python 3",
   "language": "python",
   "name": "python3"
  },
  "language_info": {
   "codemirror_mode": {
    "name": "ipython",
    "version": 3
   },
   "file_extension": ".py",
   "mimetype": "text/x-python",
   "name": "python",
   "nbconvert_exporter": "python",
   "pygments_lexer": "ipython3",
   "version": "3.10.8"
  }
 },
 "nbformat": 4,
 "nbformat_minor": 2
}
