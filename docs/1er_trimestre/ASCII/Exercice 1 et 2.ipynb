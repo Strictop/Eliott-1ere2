{
 "cells": [
  {
   "cell_type": "markdown",
   "metadata": {},
   "source": [
    "## Exercice 1"
   ]
  },
  {
   "cell_type": "markdown",
   "metadata": {},
   "source": [
    "### Question 1"
   ]
  },
  {
   "cell_type": "code",
   "execution_count": 1,
   "metadata": {},
   "outputs": [
    {
     "name": "stdout",
     "output_type": "stream",
     "text": [
      "Le code numérique de e est 101\n",
      "Le code numérique de é est 233\n",
      "Le code numérique de è est 232\n",
      "Le code numérique de ê est 234\n",
      "Le code numérique de à est 224\n",
      "Le code numérique de â est 226\n",
      "Le code numérique de ï est 239\n",
      "Le code numérique de ç est 231\n",
      "Le code numérique de ù est 249\n"
     ]
    }
   ],
   "source": [
    "lettres_accentuees = ['e', 'é', 'è', 'ê', 'à', 'â', 'ï', 'ç', 'ù']\n",
    "for lettre in lettres_accentuees:\n",
    "    code_numerique = ord(lettre)\n",
    "    print(f\"Le code numérique de {lettre} est {code_numerique}\")"
   ]
  },
  {
   "cell_type": "markdown",
   "metadata": {},
   "source": [
    "### Question 2\n"
   ]
  },
  {
   "cell_type": "code",
   "execution_count": 2,
   "metadata": {},
   "outputs": [
    {
     "name": "stdout",
     "output_type": "stream",
     "text": [
      "Le code numérique de É est 201\n",
      "Le code numérique de È est 200\n",
      "Le code numérique de Ê est 202\n",
      "Le code numérique de À est 192\n",
      "Le code numérique de Â est 194\n",
      "Le code numérique de Ï est 207\n",
      "Le code numérique de Ç est 199\n",
      "Le code numérique de Ù est 217\n"
     ]
    }
   ],
   "source": [
    "lettres_accentuees = ['É', 'È', 'Ê', 'À', 'Â', 'Ï', 'Ç', 'Ù']\n",
    "for lettre in lettres_accentuees:\n",
    "    code = ord(lettre)\n",
    "    print(f\"Le code numérique de {lettre} est {code}\")"
   ]
  },
  {
   "cell_type": "markdown",
   "metadata": {},
   "source": [
    "### Question 3"
   ]
  },
  {
   "cell_type": "code",
   "execution_count": 3,
   "metadata": {},
   "outputs": [
    {
     "name": "stdout",
     "output_type": "stream",
     "text": [
      "Code 97 : a\n",
      "Code 98 : b\n",
      "Code 99 : c\n",
      "Code 100 : d\n",
      "Code 101 : e\n",
      "Code 102 : f\n",
      "Code 103 : g\n",
      "Code 104 : h\n",
      "Code 105 : i\n",
      "Code 106 : j\n",
      "Code 107 : k\n",
      "Code 108 : l\n",
      "Code 109 : m\n",
      "Code 110 : n\n",
      "Code 111 : o\n",
      "Code 112 : p\n",
      "Code 113 : q\n",
      "Code 114 : r\n",
      "Code 115 : s\n",
      "Code 116 : t\n",
      "Code 117 : u\n",
      "Code 118 : v\n",
      "Code 119 : w\n",
      "Code 120 : x\n",
      "Code 121 : y\n",
      "Code 122 : z\n"
     ]
    }
   ],
   "source": [
    "def flemme(code_debut, code_fin):\n",
    "    for chiffre in range(code_debut, code_fin + 1):\n",
    "        lettre = chr(chiffre)\n",
    "        print(f\"Code {chiffre} : {lettre}\")\n",
    "\n",
    "flemme(97, 122)  # Affiche les lettres de 'a' à 'z'"
   ]
  },
  {
   "cell_type": "markdown",
   "metadata": {},
   "source": [
    "### Question 4"
   ]
  },
  {
   "cell_type": "markdown",
   "metadata": {},
   "source": [
    "La sequence binaire \"01000010011100100110000101110110011011110010000000100001\" décodé en texte donne le mot \"Bravo !\""
   ]
  },
  {
   "cell_type": "markdown",
   "metadata": {},
   "source": [
    "### Question 5"
   ]
  },
  {
   "cell_type": "markdown",
   "metadata": {},
   "source": [
    "Non on ne peut pas coder la phrase: \"un âne est passé par là\" car la phrase contient des caractère accentués.\n"
   ]
  },
  {
   "cell_type": "markdown",
   "metadata": {},
   "source": [
    "## Exercice 2\n"
   ]
  },
  {
   "cell_type": "markdown",
   "metadata": {},
   "source": [
    "### Question 1"
   ]
  },
  {
   "cell_type": "markdown",
   "metadata": {},
   "source": [
    "Si le fichier était interprété en latin-1 (ISO/CEI 8859-1), la séquence d'octets représentant le caractère \"é\" serait simplement 0xE9"
   ]
  },
  {
   "cell_type": "markdown",
   "metadata": {},
   "source": [
    "### Question 2"
   ]
  },
  {
   "cell_type": "markdown",
   "metadata": {},
   "source": [
    "Si le fichier avait été interprété en latin 1, \"é\" serait representé en 'Ã*'"
   ]
  }
 ],
 "metadata": {
  "kernelspec": {
   "display_name": "Python 3",
   "language": "python",
   "name": "python3"
  },
  "language_info": {
   "codemirror_mode": {
    "name": "ipython",
    "version": 3
   },
   "file_extension": ".py",
   "mimetype": "text/x-python",
   "name": "python",
   "nbconvert_exporter": "python",
   "pygments_lexer": "ipython3",
   "version": "3.10.8"
  }
 },
 "nbformat": 4,
 "nbformat_minor": 2
}
