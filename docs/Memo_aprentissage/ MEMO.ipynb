{
 "cells": [
  {
   "cell_type": "markdown",
   "metadata": {},
   "source": [
    "### Memo sur les algorithmes\n"
   ]
  },
  {
   "cell_type": "markdown",
   "metadata": {},
   "source": [
    "#### 1. Définition d'un algo et son importance\n"
   ]
  },
  {
   "cell_type": "markdown",
   "metadata": {},
   "source": [
    "Un **algorithme** est une suite finie d'instructions précises conçues pour accomplir une tâche spécifique ou résoudre un problème. En programmation, les algorithmes sont essentiels car ils déterminent la méthode de résolution de problèmes par les ordinateurs."
   ]
  },
  {
   "cell_type": "markdown",
   "metadata": {},
   "source": [
    "#### 2. Caractéristiques d'un algorithme\n",
    "\n"
   ]
  },
  {
   "cell_type": "markdown",
   "metadata": {},
   "source": [
    "- **Finitude** : Un algorithme doit toujours se terminer après un nombre défini d'étapes.\n",
    "- **Précision** : Chaque étape de l'algorithme doit être clairement et sans ambiguïté.\n",
    "- **Entrées et Sorties** : Il doit recevoir des données en entrée et produire des résultats en sortie."
   ]
  },
  {
   "cell_type": "markdown",
   "metadata": {},
   "source": [
    "#### 3. Types d'algorithmes\n"
   ]
  },
  {
   "cell_type": "markdown",
   "metadata": {},
   "source": [
    "##### a. Algorithmes de Tri\n",
    "Ces algorithmes réorganisent les éléments d'une liste selon un ordre précis (croissant ou décroissant).\n",
    "- **Tri par sélection** : Sélectionne le plus petit élément et le place au début, puis répète ce processus pour les éléments restants.\n",
    "- **Tri à bulles** : Compare et échange les éléments adjacents qui sont dans le mauvais ordre, répété jusqu'à ce que la liste soit triée.\n",
    "- **Tri rapide** : Utilise un pivot pour diviser la liste en deux sous-listes, trie récursivement ces sous-listes."
   ]
  },
  {
   "cell_type": "markdown",
   "metadata": {},
   "source": [
    "##### b. Algorithmes de Recherche\n",
    "Ces algorithmes permettent de trouver un élément spécifique dans une collection de données.\n",
    "- **Recherche séquentielle** : Parcourt chaque élément de la liste jusqu'à trouver celui recherché.\n",
    "- **Recherche binaire** : Divise une liste triée en deux et compare l'élément du milieu à l'élément recherché, réduisant ainsi la zone de recherche de moitié à chaque étape.\n"
   ]
  },
  {
   "cell_type": "markdown",
   "metadata": {},
   "source": [
    "#### 4. Pseudo-code (Hors programme)"
   ]
  },
  {
   "cell_type": "markdown",
   "metadata": {},
   "source": [
    "Le pseudo-code est une manière informelle de décrire un algorithme en utilisant une syntaxe proche du langage naturel."
   ]
  },
  {
   "cell_type": "markdown",
   "metadata": {},
   "source": [
    "Fonction tri_rapide(tableau, début, fin) :\n",
    "    # Cas de base\n",
    "    Si fin - debut < 2 :\n",
    "        Quitter\n",
    "\n",
    "    pivot est égal à tableau[fin - 1]\n",
    "    curseur est égal à début\n",
    "\n",
    "    # Partition du tableau\n",
    "    Pour i allant de debut (inclus) à fin - 1 (exclu):\n",
    "        Si tableau[i] <= pivot:\n",
    "            Échanger les éléments d'indices i et curseur\n",
    "            Incrémenter curseur\n",
    "\n",
    "    # Positionnement définitif du pivot\n",
    "    Échanger les éléments d'indices fin - 1 et curseur\n",
    "\n",
    "    # Appels récursifs\n",
    "    tri_rapide(tableau, début, curseur)\n",
    "    tri_rapide(tableau, curseur + 1, fin)\n"
   ]
  },
  {
   "cell_type": "markdown",
   "metadata": {},
   "source": [
    "#### 5. Complexité des Algorithmes\n"
   ]
  },
  {
   "cell_type": "markdown",
   "metadata": {},
   "source": [
    "La **complexité** mesure les ressources nécessaires pour exécuter un algorithme.\n",
    "- **Complexité en temps** : Le nombre d'opérations nécessaires, notée O(n).\n",
    "  - Exemples : O(n^2) pour le tri à bulles, O(n log n) pour le tri rapide.\n",
    "- **Complexité en espace** : La quantité de mémoire utilisée par l'algorithme."
   ]
  }
 ],
 "metadata": {
  "kernelspec": {
   "display_name": "Python 3",
   "language": "python",
   "name": "python3"
  },
  "language_info": {
   "codemirror_mode": {
    "name": "ipython",
    "version": 3
   },
   "file_extension": ".py",
   "mimetype": "text/x-python",
   "name": "python",
   "nbconvert_exporter": "python",
   "pygments_lexer": "ipython3",
   "version": "3.10.8"
  }
 },
 "nbformat": 4,
 "nbformat_minor": 2
}
